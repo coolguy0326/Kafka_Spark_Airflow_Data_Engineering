{
 "cells": [
  {
   "cell_type": "code",
   "execution_count": 1,
   "id": "initial_id",
   "metadata": {
    "ExecuteTime": {
     "end_time": "2023-12-16T08:10:39.179649Z",
     "start_time": "2023-12-16T08:10:38.553482Z"
    }
   },
   "outputs": [],
   "source": [
    "import sys\n",
    "sys.path.insert(0, \"/Users/hamzag/personalProjects/rappelConso\")\n",
    "\n",
    "import os\n",
    "\n",
    "import psycopg2\n",
    "from src.constants import DB_FIELDS\n",
    "\n",
    "# Database connection parameters\n",
    "dbname = \"postgres\"\n",
    "user = \"postgres\"\n",
    "password = os.getenv(\"POSTGRES_PASSWORD\")\n",
    "host = \"localhost\"\n",
    "\n",
    "# Connect to the database\n",
    "conn = psycopg2.connect(dbname=dbname, user=user, password=password, host=host)\n",
    "cur = conn.cursor()\n"
   ]
  },
  {
   "cell_type": "code",
   "execution_count": 3,
   "id": "b3e6d3586830df4a",
   "metadata": {
    "collapsed": false,
    "ExecuteTime": {
     "end_time": "2023-12-16T08:20:27.105038Z",
     "start_time": "2023-12-16T08:20:27.083351Z"
    }
   },
   "outputs": [
    {
     "data": {
      "text/plain": "'$9t3tEs@CzPBFb7@'"
     },
     "execution_count": 3,
     "metadata": {},
     "output_type": "execute_result"
    }
   ],
   "source": [
    "password"
   ]
  },
  {
   "cell_type": "code",
   "execution_count": 6,
   "outputs": [
    {
     "data": {
      "text/plain": "[]"
     },
     "execution_count": 6,
     "metadata": {},
     "output_type": "execute_result"
    }
   ],
   "source": [
    "cur.execute(\"SELECT risques_encourus_par_le_consommateur FROM rappel_conso WHERE categorie_de_produit = 'Lait et produits laitiers' ORDER BY date_de_publication DESC LIMIT 3\")\n",
    "rows = cur.fetchall()\n",
    "rows"
   ],
   "metadata": {
    "collapsed": false,
    "ExecuteTime": {
     "end_time": "2023-12-16T08:32:11.926618Z",
     "start_time": "2023-12-16T08:32:11.909464Z"
    }
   },
   "id": "bbb4d73c3f3a64a2"
  },
  {
   "cell_type": "code",
   "execution_count": 2,
   "id": "f156a314773fe12c",
   "metadata": {
    "collapsed": false,
    "ExecuteTime": {
     "end_time": "2023-12-16T08:10:39.665868Z",
     "start_time": "2023-12-16T08:10:39.479663Z"
    }
   },
   "outputs": [
    {
     "name": "stdout",
     "output_type": "stream",
     "text": [
      "9958\n"
     ]
    }
   ],
   "source": [
    "cur.execute(\"SELECT * FROM rappel_conso\")\n",
    "\n",
    "rows = cur.fetchall()\n",
    "i = 0\n",
    "for row in rows:\n",
    "    i += 1\n",
    "    #print(row)\n",
    "print(i)"
   ]
  },
  {
   "cell_type": "code",
   "execution_count": 16,
   "outputs": [],
   "source": [
    "cur.execute(\"DELETE FROM rappel_conso\")\n",
    "\n",
    "# Commit the transaction\n",
    "conn.commit()"
   ],
   "metadata": {
    "collapsed": false,
    "ExecuteTime": {
     "end_time": "2023-11-26T16:06:49.433227Z",
     "start_time": "2023-11-26T16:06:49.396227Z"
    }
   },
   "id": "f27b7f35b42ed69e"
  },
  {
   "cell_type": "code",
   "execution_count": 7,
   "id": "b47eb62a-c1c8-45a5-b199-af33cd2f716d",
   "metadata": {},
   "outputs": [],
   "source": [
    "cur.close()\n",
    "conn.close()"
   ]
  },
  {
   "cell_type": "code",
   "execution_count": null,
   "id": "785eff9b-595d-4fe5-9220-072f8fa25046",
   "metadata": {},
   "outputs": [],
   "source": []
  }
 ],
 "metadata": {
  "kernelspec": {
   "display_name": "Python 3 (ipykernel)",
   "language": "python",
   "name": "python3"
  },
  "language_info": {
   "codemirror_mode": {
    "name": "ipython",
    "version": 3
   },
   "file_extension": ".py",
   "mimetype": "text/x-python",
   "name": "python",
   "nbconvert_exporter": "python",
   "pygments_lexer": "ipython3",
   "version": "3.11.4"
  }
 },
 "nbformat": 4,
 "nbformat_minor": 5
}
